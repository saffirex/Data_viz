{
 "cells": [
  {
   "cell_type": "markdown",
   "id": "b4ae5707-109f-4cd6-8168-88cac0179d6b",
   "metadata": {},
   "source": [
    "![dvd_image](dvd_image.jpg)\n",
    "\n",
    "A DVD rental company needs your help! They want to figure out how many days a customer will rent a DVD for based on some features and has approached you for help. They want you to try out some regression models which will help predict the number of days a customer will rent a DVD for. The company wants a model which yeilds a MSE of 3 or less on a test set. The model you make will help the company become more efficient inventory planning.\n",
    "\n",
    "The data they provided is in the csv file `rental_info.csv`. It has the following features:\n",
    "- `\"rental_date\"`: The date (and time) the customer rents the DVD.\n",
    "- `\"return_date\"`: The date (and time) the customer returns the DVD.\n",
    "- `\"amount\"`: The amount paid by the customer for renting the DVD.\n",
    "- `\"amount_2\"`: The square of `\"amount\"`.\n",
    "- `\"rental_rate\"`: The rate at which the DVD is rented for.\n",
    "- `\"rental_rate_2\"`: The square of `\"rental_rate\"`.\n",
    "- `\"release_year\"`: The year the movie being rented was released.\n",
    "- `\"length\"`: Lenght of the movie being rented, in minuites.\n",
    "- `\"length_2\"`: The square of `\"length\"`.\n",
    "- `\"replacement_cost\"`: The amount it will cost the company to replace the DVD.\n",
    "- `\"special_features\"`: Any special features, for example trailers/deleted scenes that the DVD also has.\n",
    "- `\"NC-17\"`, `\"PG\"`, `\"PG-13\"`, `\"R\"`: These columns are dummy variables of the rating of the movie. It takes the value 1 if the move is rated as the column name and 0 otherwise. For your convinience, the reference dummy has already been dropped."
   ]
  },
  {
   "cell_type": "code",
   "execution_count": 2,
   "id": "a7ede566-910a-445c-b11a-68d192ac8506",
   "metadata": {
    "executionCancelledAt": null,
    "executionTime": 49,
    "lastExecutedAt": 1720202054914,
    "lastExecutedByKernel": "f59c7cbc-2bcc-4c9b-8005-eb7826784d79",
    "lastScheduledRunId": null,
    "lastSuccessfullyExecutedCode": "import pandas as pd\nimport numpy as np\n\n# Import any additional modules and start coding below"
   },
   "outputs": [],
   "source": [
    "import pandas as pd\n",
    "import numpy as np\n",
    "\n",
    "# Import any additional modules and start coding below"
   ]
  },
  {
   "cell_type": "markdown",
   "id": "70cca11f-9773-4457-bcac-bb0571d9f3e9",
   "metadata": {},
   "source": [
    "## 1. Importing dataset and calculating the length of rental (in days)"
   ]
  },
  {
   "cell_type": "code",
   "execution_count": 3,
   "id": "b4b7f008-ce5f-4234-b1dd-ffe2315eea9a",
   "metadata": {
    "executionCancelledAt": null,
    "executionTime": 50,
    "lastExecutedAt": 1720202054964,
    "lastExecutedByKernel": "f59c7cbc-2bcc-4c9b-8005-eb7826784d79",
    "lastScheduledRunId": null,
    "lastSuccessfullyExecutedCode": "rental_df = pd.read_csv(\"rental_info.csv\")"
   },
   "outputs": [],
   "source": [
    "rental_df = pd.read_csv(\"rental_info.csv\")"
   ]
  },
  {
   "cell_type": "code",
   "execution_count": 4,
   "id": "23f11e1b-0a74-4427-8128-f63cb39b1f1d",
   "metadata": {
    "executionCancelledAt": null,
    "executionTime": 66,
    "lastExecutedAt": 1720202055030,
    "lastExecutedByKernel": "f59c7cbc-2bcc-4c9b-8005-eb7826784d79",
    "lastScheduledRunId": null,
    "lastSuccessfullyExecutedCode": "rental_df.head()",
    "outputsMetadata": {
     "0": {
      "height": 550,
      "tableState": {},
      "type": "dataFrame"
     }
    }
   },
   "outputs": [
    {
     "data": {
      "text/html": [
       "<div>\n",
       "<style scoped>\n",
       "    .dataframe tbody tr th:only-of-type {\n",
       "        vertical-align: middle;\n",
       "    }\n",
       "\n",
       "    .dataframe tbody tr th {\n",
       "        vertical-align: top;\n",
       "    }\n",
       "\n",
       "    .dataframe thead th {\n",
       "        text-align: right;\n",
       "    }\n",
       "</style>\n",
       "<table border=\"1\" class=\"dataframe\">\n",
       "  <thead>\n",
       "    <tr style=\"text-align: right;\">\n",
       "      <th></th>\n",
       "      <th>rental_date</th>\n",
       "      <th>return_date</th>\n",
       "      <th>amount</th>\n",
       "      <th>release_year</th>\n",
       "      <th>rental_rate</th>\n",
       "      <th>length</th>\n",
       "      <th>replacement_cost</th>\n",
       "      <th>special_features</th>\n",
       "      <th>NC-17</th>\n",
       "      <th>PG</th>\n",
       "      <th>PG-13</th>\n",
       "      <th>R</th>\n",
       "      <th>amount_2</th>\n",
       "      <th>length_2</th>\n",
       "      <th>rental_rate_2</th>\n",
       "    </tr>\n",
       "  </thead>\n",
       "  <tbody>\n",
       "    <tr>\n",
       "      <th>14915</th>\n",
       "      <td>2005-08-17 10:39:59+00:00</td>\n",
       "      <td>2005-08-23 08:53:59+00:00</td>\n",
       "      <td>5.99</td>\n",
       "      <td>2007.0</td>\n",
       "      <td>2.99</td>\n",
       "      <td>176.0</td>\n",
       "      <td>12.99</td>\n",
       "      <td>{Trailers,Commentaries,\"Deleted Scenes\"}</td>\n",
       "      <td>0</td>\n",
       "      <td>0</td>\n",
       "      <td>0</td>\n",
       "      <td>0</td>\n",
       "      <td>35.8801</td>\n",
       "      <td>30976.0</td>\n",
       "      <td>8.9401</td>\n",
       "    </tr>\n",
       "    <tr>\n",
       "      <th>6282</th>\n",
       "      <td>2005-08-20 06:18:30+00:00</td>\n",
       "      <td>2005-08-27 05:33:30+00:00</td>\n",
       "      <td>6.99</td>\n",
       "      <td>2006.0</td>\n",
       "      <td>4.99</td>\n",
       "      <td>143.0</td>\n",
       "      <td>26.99</td>\n",
       "      <td>{\"Deleted Scenes\"}</td>\n",
       "      <td>1</td>\n",
       "      <td>0</td>\n",
       "      <td>0</td>\n",
       "      <td>0</td>\n",
       "      <td>48.8601</td>\n",
       "      <td>20449.0</td>\n",
       "      <td>24.9001</td>\n",
       "    </tr>\n",
       "    <tr>\n",
       "      <th>7031</th>\n",
       "      <td>2005-07-07 12:22:07+00:00</td>\n",
       "      <td>2005-07-13 15:42:07+00:00</td>\n",
       "      <td>0.99</td>\n",
       "      <td>2010.0</td>\n",
       "      <td>0.99</td>\n",
       "      <td>110.0</td>\n",
       "      <td>24.99</td>\n",
       "      <td>{\"Deleted Scenes\",\"Behind the Scenes\"}</td>\n",
       "      <td>0</td>\n",
       "      <td>0</td>\n",
       "      <td>1</td>\n",
       "      <td>0</td>\n",
       "      <td>0.9801</td>\n",
       "      <td>12100.0</td>\n",
       "      <td>0.9801</td>\n",
       "    </tr>\n",
       "    <tr>\n",
       "      <th>2101</th>\n",
       "      <td>2005-07-30 19:15:38+00:00</td>\n",
       "      <td>2005-08-05 23:20:38+00:00</td>\n",
       "      <td>6.99</td>\n",
       "      <td>2008.0</td>\n",
       "      <td>4.99</td>\n",
       "      <td>91.0</td>\n",
       "      <td>11.99</td>\n",
       "      <td>{\"Behind the Scenes\"}</td>\n",
       "      <td>0</td>\n",
       "      <td>1</td>\n",
       "      <td>0</td>\n",
       "      <td>0</td>\n",
       "      <td>48.8601</td>\n",
       "      <td>8281.0</td>\n",
       "      <td>24.9001</td>\n",
       "    </tr>\n",
       "    <tr>\n",
       "      <th>3615</th>\n",
       "      <td>2005-07-28 03:06:41+00:00</td>\n",
       "      <td>2005-08-01 00:08:41+00:00</td>\n",
       "      <td>4.99</td>\n",
       "      <td>2009.0</td>\n",
       "      <td>4.99</td>\n",
       "      <td>120.0</td>\n",
       "      <td>22.99</td>\n",
       "      <td>{Trailers,Commentaries,\"Behind the Scenes\"}</td>\n",
       "      <td>1</td>\n",
       "      <td>0</td>\n",
       "      <td>0</td>\n",
       "      <td>0</td>\n",
       "      <td>24.9001</td>\n",
       "      <td>14400.0</td>\n",
       "      <td>24.9001</td>\n",
       "    </tr>\n",
       "  </tbody>\n",
       "</table>\n",
       "</div>"
      ],
      "text/plain": [
       "                     rental_date                return_date  amount  \\\n",
       "14915  2005-08-17 10:39:59+00:00  2005-08-23 08:53:59+00:00    5.99   \n",
       "6282   2005-08-20 06:18:30+00:00  2005-08-27 05:33:30+00:00    6.99   \n",
       "7031   2005-07-07 12:22:07+00:00  2005-07-13 15:42:07+00:00    0.99   \n",
       "2101   2005-07-30 19:15:38+00:00  2005-08-05 23:20:38+00:00    6.99   \n",
       "3615   2005-07-28 03:06:41+00:00  2005-08-01 00:08:41+00:00    4.99   \n",
       "\n",
       "       release_year  rental_rate  length  replacement_cost  \\\n",
       "14915        2007.0         2.99   176.0             12.99   \n",
       "6282         2006.0         4.99   143.0             26.99   \n",
       "7031         2010.0         0.99   110.0             24.99   \n",
       "2101         2008.0         4.99    91.0             11.99   \n",
       "3615         2009.0         4.99   120.0             22.99   \n",
       "\n",
       "                                  special_features  NC-17  PG  PG-13  R  \\\n",
       "14915     {Trailers,Commentaries,\"Deleted Scenes\"}      0   0      0  0   \n",
       "6282                            {\"Deleted Scenes\"}      1   0      0  0   \n",
       "7031        {\"Deleted Scenes\",\"Behind the Scenes\"}      0   0      1  0   \n",
       "2101                         {\"Behind the Scenes\"}      0   1      0  0   \n",
       "3615   {Trailers,Commentaries,\"Behind the Scenes\"}      1   0      0  0   \n",
       "\n",
       "       amount_2  length_2  rental_rate_2  \n",
       "14915   35.8801   30976.0         8.9401  \n",
       "6282    48.8601   20449.0        24.9001  \n",
       "7031     0.9801   12100.0         0.9801  \n",
       "2101    48.8601    8281.0        24.9001  \n",
       "3615    24.9001   14400.0        24.9001  "
      ]
     },
     "execution_count": 4,
     "metadata": {},
     "output_type": "execute_result"
    }
   ],
   "source": [
    "rental_df.sample(5)"
   ]
  },
  {
   "cell_type": "code",
   "execution_count": 146,
   "id": "778d877e-d365-4cac-a636-65130729c3fe",
   "metadata": {
    "executionCancelledAt": null,
    "executionTime": 60,
    "lastExecutedAt": 1720202055090,
    "lastExecutedByKernel": "f59c7cbc-2bcc-4c9b-8005-eb7826784d79",
    "lastScheduledRunId": null,
    "lastSuccessfullyExecutedCode": "rental_df[\"rental_date\"] = pd.to_datetime(rental_df[\"rental_date\"])"
   },
   "outputs": [],
   "source": [
    "rental_df[\"rental_date\"] = pd.to_datetime(rental_df[\"rental_date\"])"
   ]
  },
  {
   "cell_type": "code",
   "execution_count": 147,
   "id": "800c109b-0403-489b-ae8e-e6c76ba6a654",
   "metadata": {
    "executionCancelledAt": null,
    "executionTime": 60,
    "lastExecutedAt": 1720202055150,
    "lastExecutedByKernel": "f59c7cbc-2bcc-4c9b-8005-eb7826784d79",
    "lastScheduledRunId": null,
    "lastSuccessfullyExecutedCode": "rental_df[\"return_date\"] = pd.to_datetime(rental_df[\"return_date\"])"
   },
   "outputs": [],
   "source": [
    "rental_df[\"return_date\"] = pd.to_datetime(rental_df[\"return_date\"])"
   ]
  },
  {
   "cell_type": "code",
   "execution_count": 148,
   "id": "6d016e51-407c-4448-ac76-689c29c2af34",
   "metadata": {
    "executionCancelledAt": null,
    "executionTime": 52,
    "lastExecutedAt": 1720202055202,
    "lastExecutedByKernel": "f59c7cbc-2bcc-4c9b-8005-eb7826784d79",
    "lastScheduledRunId": null,
    "lastSuccessfullyExecutedCode": "rental_df[\"rental_length\"] = rental_df[\"return_date\"] - rental_df[\"rental_date\"]\nrental_df[\"rental_length_days\"] = rental_df[\"rental_length\"].dt.days"
   },
   "outputs": [],
   "source": [
    "rental_df[\"rental_length\"] = rental_df[\"return_date\"] - rental_df[\"rental_date\"]\n",
    "rental_df[\"rental_length_days\"] = rental_df[\"rental_length\"].dt.days"
   ]
  },
  {
   "cell_type": "code",
   "execution_count": 149,
   "id": "b9da1bb9-4b89-4842-973b-d40a692d61f9",
   "metadata": {
    "executionCancelledAt": null,
    "executionTime": 52,
    "lastExecutedAt": 1720202055254,
    "lastExecutedByKernel": "f59c7cbc-2bcc-4c9b-8005-eb7826784d79",
    "lastScheduledRunId": null,
    "lastSuccessfullyExecutedCode": "rental_df.head()",
    "outputsMetadata": {
     "0": {
      "height": 550,
      "tableState": {},
      "type": "dataFrame"
     }
    }
   },
   "outputs": [
    {
     "data": {
      "application/com.datacamp.data-table.v1+json": {
       "table": {
        "data": [
         {
          "NC-17": 0,
          "PG": 0,
          "PG-13": 0,
          "R": 1,
          "amount": 2.99,
          "amount_2": 8.9401,
          "index": 0,
          "length": 126,
          "length_2": 15876,
          "release_year": 2005,
          "rental_date": "2005-05-25T02:54:33.000Z",
          "rental_length": "P3DT20H46M0S",
          "rental_length_days": 3,
          "rental_rate": 2.99,
          "rental_rate_2": 8.9401,
          "replacement_cost": 16.99,
          "return_date": "2005-05-28T23:40:33.000Z",
          "special_features": "{Trailers,\"Behind the Scenes\"}"
         },
         {
          "NC-17": 0,
          "PG": 0,
          "PG-13": 0,
          "R": 1,
          "amount": 2.99,
          "amount_2": 8.9401,
          "index": 1,
          "length": 126,
          "length_2": 15876,
          "release_year": 2005,
          "rental_date": "2005-06-15T23:19:16.000Z",
          "rental_length": "P2DT20H5M0S",
          "rental_length_days": 2,
          "rental_rate": 2.99,
          "rental_rate_2": 8.9401,
          "replacement_cost": 16.99,
          "return_date": "2005-06-18T19:24:16.000Z",
          "special_features": "{Trailers,\"Behind the Scenes\"}"
         },
         {
          "NC-17": 0,
          "PG": 0,
          "PG-13": 0,
          "R": 1,
          "amount": 2.99,
          "amount_2": 8.9401,
          "index": 2,
          "length": 126,
          "length_2": 15876,
          "release_year": 2005,
          "rental_date": "2005-07-10T04:27:45.000Z",
          "rental_length": "P7DT5H44M0S",
          "rental_length_days": 7,
          "rental_rate": 2.99,
          "rental_rate_2": 8.9401,
          "replacement_cost": 16.99,
          "return_date": "2005-07-17T10:11:45.000Z",
          "special_features": "{Trailers,\"Behind the Scenes\"}"
         },
         {
          "NC-17": 0,
          "PG": 0,
          "PG-13": 0,
          "R": 1,
          "amount": 2.99,
          "amount_2": 8.9401,
          "index": 3,
          "length": 126,
          "length_2": 15876,
          "release_year": 2005,
          "rental_date": "2005-07-31T12:06:41.000Z",
          "rental_length": "P2DT2H24M0S",
          "rental_length_days": 2,
          "rental_rate": 2.99,
          "rental_rate_2": 8.9401,
          "replacement_cost": 16.99,
          "return_date": "2005-08-02T14:30:41.000Z",
          "special_features": "{Trailers,\"Behind the Scenes\"}"
         },
         {
          "NC-17": 0,
          "PG": 0,
          "PG-13": 0,
          "R": 1,
          "amount": 2.99,
          "amount_2": 8.9401,
          "index": 4,
          "length": 126,
          "length_2": 15876,
          "release_year": 2005,
          "rental_date": "2005-08-19T12:30:04.000Z",
          "rental_length": "P4DT1H5M0S",
          "rental_length_days": 4,
          "rental_rate": 2.99,
          "rental_rate_2": 8.9401,
          "replacement_cost": 16.99,
          "return_date": "2005-08-23T13:35:04.000Z",
          "special_features": "{Trailers,\"Behind the Scenes\"}"
         }
        ],
        "schema": {
         "fields": [
          {
           "name": "index",
           "type": "integer"
          },
          {
           "name": "rental_date",
           "type": "datetime",
           "tz": "UTC"
          },
          {
           "name": "return_date",
           "type": "datetime",
           "tz": "UTC"
          },
          {
           "name": "amount",
           "type": "number"
          },
          {
           "name": "release_year",
           "type": "number"
          },
          {
           "name": "rental_rate",
           "type": "number"
          },
          {
           "name": "length",
           "type": "number"
          },
          {
           "name": "replacement_cost",
           "type": "number"
          },
          {
           "name": "special_features",
           "type": "string"
          },
          {
           "name": "NC-17",
           "type": "integer"
          },
          {
           "name": "PG",
           "type": "integer"
          },
          {
           "name": "PG-13",
           "type": "integer"
          },
          {
           "name": "R",
           "type": "integer"
          },
          {
           "name": "amount_2",
           "type": "number"
          },
          {
           "name": "length_2",
           "type": "number"
          },
          {
           "name": "rental_rate_2",
           "type": "number"
          },
          {
           "name": "rental_length",
           "type": "duration"
          },
          {
           "name": "rental_length_days",
           "type": "integer"
          }
         ],
         "pandas_version": "1.4.0",
         "primaryKey": [
          "index"
         ]
        }
       },
       "total_rows": 5,
       "truncation_type": null
      },
      "text/html": [
       "<div>\n",
       "<style scoped>\n",
       "    .dataframe tbody tr th:only-of-type {\n",
       "        vertical-align: middle;\n",
       "    }\n",
       "\n",
       "    .dataframe tbody tr th {\n",
       "        vertical-align: top;\n",
       "    }\n",
       "\n",
       "    .dataframe thead th {\n",
       "        text-align: right;\n",
       "    }\n",
       "</style>\n",
       "<table border=\"1\" class=\"dataframe\">\n",
       "  <thead>\n",
       "    <tr style=\"text-align: right;\">\n",
       "      <th></th>\n",
       "      <th>rental_date</th>\n",
       "      <th>return_date</th>\n",
       "      <th>amount</th>\n",
       "      <th>release_year</th>\n",
       "      <th>rental_rate</th>\n",
       "      <th>length</th>\n",
       "      <th>replacement_cost</th>\n",
       "      <th>special_features</th>\n",
       "      <th>NC-17</th>\n",
       "      <th>PG</th>\n",
       "      <th>PG-13</th>\n",
       "      <th>R</th>\n",
       "      <th>amount_2</th>\n",
       "      <th>length_2</th>\n",
       "      <th>rental_rate_2</th>\n",
       "      <th>rental_length</th>\n",
       "      <th>rental_length_days</th>\n",
       "    </tr>\n",
       "  </thead>\n",
       "  <tbody>\n",
       "    <tr>\n",
       "      <th>0</th>\n",
       "      <td>2005-05-25 02:54:33+00:00</td>\n",
       "      <td>2005-05-28 23:40:33+00:00</td>\n",
       "      <td>2.99</td>\n",
       "      <td>2005.0</td>\n",
       "      <td>2.99</td>\n",
       "      <td>126.0</td>\n",
       "      <td>16.99</td>\n",
       "      <td>{Trailers,\"Behind the Scenes\"}</td>\n",
       "      <td>0</td>\n",
       "      <td>0</td>\n",
       "      <td>0</td>\n",
       "      <td>1</td>\n",
       "      <td>8.9401</td>\n",
       "      <td>15876.0</td>\n",
       "      <td>8.9401</td>\n",
       "      <td>3 days 20:46:00</td>\n",
       "      <td>3</td>\n",
       "    </tr>\n",
       "    <tr>\n",
       "      <th>1</th>\n",
       "      <td>2005-06-15 23:19:16+00:00</td>\n",
       "      <td>2005-06-18 19:24:16+00:00</td>\n",
       "      <td>2.99</td>\n",
       "      <td>2005.0</td>\n",
       "      <td>2.99</td>\n",
       "      <td>126.0</td>\n",
       "      <td>16.99</td>\n",
       "      <td>{Trailers,\"Behind the Scenes\"}</td>\n",
       "      <td>0</td>\n",
       "      <td>0</td>\n",
       "      <td>0</td>\n",
       "      <td>1</td>\n",
       "      <td>8.9401</td>\n",
       "      <td>15876.0</td>\n",
       "      <td>8.9401</td>\n",
       "      <td>2 days 20:05:00</td>\n",
       "      <td>2</td>\n",
       "    </tr>\n",
       "    <tr>\n",
       "      <th>2</th>\n",
       "      <td>2005-07-10 04:27:45+00:00</td>\n",
       "      <td>2005-07-17 10:11:45+00:00</td>\n",
       "      <td>2.99</td>\n",
       "      <td>2005.0</td>\n",
       "      <td>2.99</td>\n",
       "      <td>126.0</td>\n",
       "      <td>16.99</td>\n",
       "      <td>{Trailers,\"Behind the Scenes\"}</td>\n",
       "      <td>0</td>\n",
       "      <td>0</td>\n",
       "      <td>0</td>\n",
       "      <td>1</td>\n",
       "      <td>8.9401</td>\n",
       "      <td>15876.0</td>\n",
       "      <td>8.9401</td>\n",
       "      <td>7 days 05:44:00</td>\n",
       "      <td>7</td>\n",
       "    </tr>\n",
       "    <tr>\n",
       "      <th>3</th>\n",
       "      <td>2005-07-31 12:06:41+00:00</td>\n",
       "      <td>2005-08-02 14:30:41+00:00</td>\n",
       "      <td>2.99</td>\n",
       "      <td>2005.0</td>\n",
       "      <td>2.99</td>\n",
       "      <td>126.0</td>\n",
       "      <td>16.99</td>\n",
       "      <td>{Trailers,\"Behind the Scenes\"}</td>\n",
       "      <td>0</td>\n",
       "      <td>0</td>\n",
       "      <td>0</td>\n",
       "      <td>1</td>\n",
       "      <td>8.9401</td>\n",
       "      <td>15876.0</td>\n",
       "      <td>8.9401</td>\n",
       "      <td>2 days 02:24:00</td>\n",
       "      <td>2</td>\n",
       "    </tr>\n",
       "    <tr>\n",
       "      <th>4</th>\n",
       "      <td>2005-08-19 12:30:04+00:00</td>\n",
       "      <td>2005-08-23 13:35:04+00:00</td>\n",
       "      <td>2.99</td>\n",
       "      <td>2005.0</td>\n",
       "      <td>2.99</td>\n",
       "      <td>126.0</td>\n",
       "      <td>16.99</td>\n",
       "      <td>{Trailers,\"Behind the Scenes\"}</td>\n",
       "      <td>0</td>\n",
       "      <td>0</td>\n",
       "      <td>0</td>\n",
       "      <td>1</td>\n",
       "      <td>8.9401</td>\n",
       "      <td>15876.0</td>\n",
       "      <td>8.9401</td>\n",
       "      <td>4 days 01:05:00</td>\n",
       "      <td>4</td>\n",
       "    </tr>\n",
       "  </tbody>\n",
       "</table>\n",
       "</div>"
      ],
      "text/plain": [
       "                rental_date  ... rental_length_days\n",
       "0 2005-05-25 02:54:33+00:00  ...                  3\n",
       "1 2005-06-15 23:19:16+00:00  ...                  2\n",
       "2 2005-07-10 04:27:45+00:00  ...                  7\n",
       "3 2005-07-31 12:06:41+00:00  ...                  2\n",
       "4 2005-08-19 12:30:04+00:00  ...                  4\n",
       "\n",
       "[5 rows x 17 columns]"
      ]
     },
     "execution_count": 149,
     "metadata": {},
     "output_type": "execute_result"
    }
   ],
   "source": [
    "rental_df.head()"
   ]
  },
  {
   "cell_type": "markdown",
   "id": "7ea4972d-b085-484c-9d1e-558d6c6637bc",
   "metadata": {},
   "source": [
    "## 2. Creating dummy variables from special_features column"
   ]
  },
  {
   "cell_type": "code",
   "execution_count": 150,
   "id": "c7ea8d76-1faf-497a-acda-2d258639152f",
   "metadata": {
    "executionCancelledAt": null,
    "executionTime": 52,
    "lastExecutedAt": 1720202055306,
    "lastExecutedByKernel": "f59c7cbc-2bcc-4c9b-8005-eb7826784d79",
    "lastScheduledRunId": null,
    "lastSuccessfullyExecutedCode": "rental_df.special_features.value_counts()",
    "outputsMetadata": {
     "0": {
      "height": 550,
      "tableState": {},
      "type": "dataFrame"
     }
    }
   },
   "outputs": [
    {
     "data": {
      "application/com.datacamp.data-table.v2+json": {
       "table": {
        "data": {
         "index": [
          "{Trailers,Commentaries,\"Behind the Scenes\"}",
          "{Trailers}",
          "{Trailers,Commentaries}",
          "{Trailers,\"Behind the Scenes\"}",
          "{\"Behind the Scenes\"}",
          "{Commentaries,\"Deleted Scenes\",\"Behind the Scenes\"}",
          "{Commentaries}",
          "{Commentaries,\"Behind the Scenes\"}",
          "{Trailers,\"Deleted Scenes\"}",
          "{\"Deleted Scenes\",\"Behind the Scenes\"}",
          "{\"Deleted Scenes\"}",
          "{Commentaries,\"Deleted Scenes\"}",
          "{Trailers,Commentaries,\"Deleted Scenes\",\"Behind the Scenes\"}",
          "{Trailers,Commentaries,\"Deleted Scenes\"}",
          "{Trailers,\"Deleted Scenes\",\"Behind the Scenes\"}"
         ],
         "special_features": [
          1308,
          1139,
          1129,
          1122,
          1108,
          1101,
          1089,
          1078,
          1047,
          1035,
          1023,
          1011,
          983,
          916,
          772
         ]
        },
        "schema": {
         "fields": [
          {
           "name": "index",
           "type": "string"
          },
          {
           "name": "special_features",
           "type": "integer"
          }
         ],
         "pandas_version": "1.4.0",
         "primaryKey": [
          "index"
         ]
        }
       },
       "total_rows": 15,
       "truncation_type": null
      },
      "text/plain": [
       "{Trailers,Commentaries,\"Behind the Scenes\"}                     1308\n",
       "{Trailers}                                                      1139\n",
       "{Trailers,Commentaries}                                         1129\n",
       "{Trailers,\"Behind the Scenes\"}                                  1122\n",
       "{\"Behind the Scenes\"}                                           1108\n",
       "{Commentaries,\"Deleted Scenes\",\"Behind the Scenes\"}             1101\n",
       "{Commentaries}                                                  1089\n",
       "{Commentaries,\"Behind the Scenes\"}                              1078\n",
       "{Trailers,\"Deleted Scenes\"}                                     1047\n",
       "{\"Deleted Scenes\",\"Behind the Scenes\"}                          1035\n",
       "{\"Deleted Scenes\"}                                              1023\n",
       "{Commentaries,\"Deleted Scenes\"}                                 1011\n",
       "{Trailers,Commentaries,\"Deleted Scenes\",\"Behind the Scenes\"}     983\n",
       "{Trailers,Commentaries,\"Deleted Scenes\"}                         916\n",
       "{Trailers,\"Deleted Scenes\",\"Behind the Scenes\"}                  772\n",
       "Name: special_features, dtype: int64"
      ]
     },
     "execution_count": 150,
     "metadata": {},
     "output_type": "execute_result"
    }
   ],
   "source": [
    "rental_df.special_features.value_counts()"
   ]
  },
  {
   "cell_type": "code",
   "execution_count": 151,
   "id": "d333b0d1-61d0-4e61-a485-7490e53b395f",
   "metadata": {
    "executionCancelledAt": null,
    "executionTime": 60,
    "lastExecutedAt": 1720202055366,
    "lastExecutedByKernel": "f59c7cbc-2bcc-4c9b-8005-eb7826784d79",
    "lastScheduledRunId": null,
    "lastSuccessfullyExecutedCode": "rental_df[\"deleted_scenes\"] = np.where(\nrental_df[\"special_features\"].str.contains(\n\"Deleted Scenes\"), 1,0\n)"
   },
   "outputs": [],
   "source": [
    "rental_df[\"deleted_scenes\"] = np.where(\n",
    "rental_df[\"special_features\"].str.contains(\n",
    "\"Deleted Scenes\"), 1,0\n",
    ")"
   ]
  },
  {
   "cell_type": "code",
   "execution_count": 152,
   "id": "5b408d79-2f71-40bb-a6f2-bc432cbd3c71",
   "metadata": {
    "executionCancelledAt": null,
    "executionTime": 56,
    "lastExecutedAt": 1720202055422,
    "lastExecutedByKernel": "f59c7cbc-2bcc-4c9b-8005-eb7826784d79",
    "lastScheduledRunId": null,
    "lastSuccessfullyExecutedCode": "rental_df[\"behind_the_scenes\"] = np.where(\nrental_df[\"special_features\"].str.contains(\n\"Behind the Scenes\"), 1,0\n)"
   },
   "outputs": [],
   "source": [
    "rental_df[\"behind_the_scenes\"] = np.where(\n",
    "rental_df[\"special_features\"].str.contains(\n",
    "\"Behind the Scenes\"), 1,0\n",
    ")"
   ]
  },
  {
   "cell_type": "code",
   "execution_count": null,
   "id": "1a57ea26-9493-4143-99a2-87503b366ebf",
   "metadata": {
    "executionCancelledAt": null,
    "executionTime": 48,
    "lastExecutedAt": 1720202055470,
    "lastExecutedByKernel": "f59c7cbc-2bcc-4c9b-8005-eb7826784d79",
    "lastScheduledRunId": null,
    "lastSuccessfullyExecutedCode": "rental_df.head()",
    "outputsMetadata": {
     "0": {
      "height": 550,
      "tableState": {},
      "type": "dataFrame"
     }
    }
   },
   "outputs": [
    {
     "data": {
      "application/com.datacamp.data-table.v1+json": {
       "table": {
        "data": [
         {
          "NC-17": 0,
          "PG": 0,
          "PG-13": 0,
          "R": 1,
          "amount": 2.99,
          "amount_2": 8.9401,
          "behind_the_scenes": 1,
          "deleted_scenes": 0,
          "index": 0,
          "length": 126,
          "length_2": 15876,
          "release_year": 2005,
          "rental_date": "2005-05-25T02:54:33.000Z",
          "rental_length": "P3DT20H46M0S",
          "rental_length_days": 3,
          "rental_rate": 2.99,
          "rental_rate_2": 8.9401,
          "replacement_cost": 16.99,
          "return_date": "2005-05-28T23:40:33.000Z",
          "special_features": "{Trailers,\"Behind the Scenes\"}"
         },
         {
          "NC-17": 0,
          "PG": 0,
          "PG-13": 0,
          "R": 1,
          "amount": 2.99,
          "amount_2": 8.9401,
          "behind_the_scenes": 1,
          "deleted_scenes": 0,
          "index": 1,
          "length": 126,
          "length_2": 15876,
          "release_year": 2005,
          "rental_date": "2005-06-15T23:19:16.000Z",
          "rental_length": "P2DT20H5M0S",
          "rental_length_days": 2,
          "rental_rate": 2.99,
          "rental_rate_2": 8.9401,
          "replacement_cost": 16.99,
          "return_date": "2005-06-18T19:24:16.000Z",
          "special_features": "{Trailers,\"Behind the Scenes\"}"
         },
         {
          "NC-17": 0,
          "PG": 0,
          "PG-13": 0,
          "R": 1,
          "amount": 2.99,
          "amount_2": 8.9401,
          "behind_the_scenes": 1,
          "deleted_scenes": 0,
          "index": 2,
          "length": 126,
          "length_2": 15876,
          "release_year": 2005,
          "rental_date": "2005-07-10T04:27:45.000Z",
          "rental_length": "P7DT5H44M0S",
          "rental_length_days": 7,
          "rental_rate": 2.99,
          "rental_rate_2": 8.9401,
          "replacement_cost": 16.99,
          "return_date": "2005-07-17T10:11:45.000Z",
          "special_features": "{Trailers,\"Behind the Scenes\"}"
         },
         {
          "NC-17": 0,
          "PG": 0,
          "PG-13": 0,
          "R": 1,
          "amount": 2.99,
          "amount_2": 8.9401,
          "behind_the_scenes": 1,
          "deleted_scenes": 0,
          "index": 3,
          "length": 126,
          "length_2": 15876,
          "release_year": 2005,
          "rental_date": "2005-07-31T12:06:41.000Z",
          "rental_length": "P2DT2H24M0S",
          "rental_length_days": 2,
          "rental_rate": 2.99,
          "rental_rate_2": 8.9401,
          "replacement_cost": 16.99,
          "return_date": "2005-08-02T14:30:41.000Z",
          "special_features": "{Trailers,\"Behind the Scenes\"}"
         },
         {
          "NC-17": 0,
          "PG": 0,
          "PG-13": 0,
          "R": 1,
          "amount": 2.99,
          "amount_2": 8.9401,
          "behind_the_scenes": 1,
          "deleted_scenes": 0,
          "index": 4,
          "length": 126,
          "length_2": 15876,
          "release_year": 2005,
          "rental_date": "2005-08-19T12:30:04.000Z",
          "rental_length": "P4DT1H5M0S",
          "rental_length_days": 4,
          "rental_rate": 2.99,
          "rental_rate_2": 8.9401,
          "replacement_cost": 16.99,
          "return_date": "2005-08-23T13:35:04.000Z",
          "special_features": "{Trailers,\"Behind the Scenes\"}"
         }
        ],
        "schema": {
         "fields": [
          {
           "name": "index",
           "type": "integer"
          },
          {
           "name": "rental_date",
           "type": "datetime",
           "tz": "UTC"
          },
          {
           "name": "return_date",
           "type": "datetime",
           "tz": "UTC"
          },
          {
           "name": "amount",
           "type": "number"
          },
          {
           "name": "release_year",
           "type": "number"
          },
          {
           "name": "rental_rate",
           "type": "number"
          },
          {
           "name": "length",
           "type": "number"
          },
          {
           "name": "replacement_cost",
           "type": "number"
          },
          {
           "name": "special_features",
           "type": "string"
          },
          {
           "name": "NC-17",
           "type": "integer"
          },
          {
           "name": "PG",
           "type": "integer"
          },
          {
           "name": "PG-13",
           "type": "integer"
          },
          {
           "name": "R",
           "type": "integer"
          },
          {
           "name": "amount_2",
           "type": "number"
          },
          {
           "name": "length_2",
           "type": "number"
          },
          {
           "name": "rental_rate_2",
           "type": "number"
          },
          {
           "name": "rental_length",
           "type": "duration"
          },
          {
           "name": "rental_length_days",
           "type": "integer"
          },
          {
           "name": "deleted_scenes",
           "type": "integer"
          },
          {
           "name": "behind_the_scenes",
           "type": "integer"
          }
         ],
         "pandas_version": "1.4.0",
         "primaryKey": [
          "index"
         ]
        }
       },
       "total_rows": 5,
       "truncation_type": null
      },
      "text/html": [
       "<div>\n",
       "<style scoped>\n",
       "    .dataframe tbody tr th:only-of-type {\n",
       "        vertical-align: middle;\n",
       "    }\n",
       "\n",
       "    .dataframe tbody tr th {\n",
       "        vertical-align: top;\n",
       "    }\n",
       "\n",
       "    .dataframe thead th {\n",
       "        text-align: right;\n",
       "    }\n",
       "</style>\n",
       "<table border=\"1\" class=\"dataframe\">\n",
       "  <thead>\n",
       "    <tr style=\"text-align: right;\">\n",
       "      <th></th>\n",
       "      <th>rental_date</th>\n",
       "      <th>return_date</th>\n",
       "      <th>amount</th>\n",
       "      <th>release_year</th>\n",
       "      <th>rental_rate</th>\n",
       "      <th>length</th>\n",
       "      <th>replacement_cost</th>\n",
       "      <th>special_features</th>\n",
       "      <th>NC-17</th>\n",
       "      <th>PG</th>\n",
       "      <th>PG-13</th>\n",
       "      <th>R</th>\n",
       "      <th>amount_2</th>\n",
       "      <th>length_2</th>\n",
       "      <th>rental_rate_2</th>\n",
       "      <th>rental_length</th>\n",
       "      <th>rental_length_days</th>\n",
       "      <th>deleted_scenes</th>\n",
       "      <th>behind_the_scenes</th>\n",
       "    </tr>\n",
       "  </thead>\n",
       "  <tbody>\n",
       "    <tr>\n",
       "      <th>0</th>\n",
       "      <td>2005-05-25 02:54:33+00:00</td>\n",
       "      <td>2005-05-28 23:40:33+00:00</td>\n",
       "      <td>2.99</td>\n",
       "      <td>2005.0</td>\n",
       "      <td>2.99</td>\n",
       "      <td>126.0</td>\n",
       "      <td>16.99</td>\n",
       "      <td>{Trailers,\"Behind the Scenes\"}</td>\n",
       "      <td>0</td>\n",
       "      <td>0</td>\n",
       "      <td>0</td>\n",
       "      <td>1</td>\n",
       "      <td>8.9401</td>\n",
       "      <td>15876.0</td>\n",
       "      <td>8.9401</td>\n",
       "      <td>3 days 20:46:00</td>\n",
       "      <td>3</td>\n",
       "      <td>0</td>\n",
       "      <td>1</td>\n",
       "    </tr>\n",
       "    <tr>\n",
       "      <th>1</th>\n",
       "      <td>2005-06-15 23:19:16+00:00</td>\n",
       "      <td>2005-06-18 19:24:16+00:00</td>\n",
       "      <td>2.99</td>\n",
       "      <td>2005.0</td>\n",
       "      <td>2.99</td>\n",
       "      <td>126.0</td>\n",
       "      <td>16.99</td>\n",
       "      <td>{Trailers,\"Behind the Scenes\"}</td>\n",
       "      <td>0</td>\n",
       "      <td>0</td>\n",
       "      <td>0</td>\n",
       "      <td>1</td>\n",
       "      <td>8.9401</td>\n",
       "      <td>15876.0</td>\n",
       "      <td>8.9401</td>\n",
       "      <td>2 days 20:05:00</td>\n",
       "      <td>2</td>\n",
       "      <td>0</td>\n",
       "      <td>1</td>\n",
       "    </tr>\n",
       "    <tr>\n",
       "      <th>2</th>\n",
       "      <td>2005-07-10 04:27:45+00:00</td>\n",
       "      <td>2005-07-17 10:11:45+00:00</td>\n",
       "      <td>2.99</td>\n",
       "      <td>2005.0</td>\n",
       "      <td>2.99</td>\n",
       "      <td>126.0</td>\n",
       "      <td>16.99</td>\n",
       "      <td>{Trailers,\"Behind the Scenes\"}</td>\n",
       "      <td>0</td>\n",
       "      <td>0</td>\n",
       "      <td>0</td>\n",
       "      <td>1</td>\n",
       "      <td>8.9401</td>\n",
       "      <td>15876.0</td>\n",
       "      <td>8.9401</td>\n",
       "      <td>7 days 05:44:00</td>\n",
       "      <td>7</td>\n",
       "      <td>0</td>\n",
       "      <td>1</td>\n",
       "    </tr>\n",
       "    <tr>\n",
       "      <th>3</th>\n",
       "      <td>2005-07-31 12:06:41+00:00</td>\n",
       "      <td>2005-08-02 14:30:41+00:00</td>\n",
       "      <td>2.99</td>\n",
       "      <td>2005.0</td>\n",
       "      <td>2.99</td>\n",
       "      <td>126.0</td>\n",
       "      <td>16.99</td>\n",
       "      <td>{Trailers,\"Behind the Scenes\"}</td>\n",
       "      <td>0</td>\n",
       "      <td>0</td>\n",
       "      <td>0</td>\n",
       "      <td>1</td>\n",
       "      <td>8.9401</td>\n",
       "      <td>15876.0</td>\n",
       "      <td>8.9401</td>\n",
       "      <td>2 days 02:24:00</td>\n",
       "      <td>2</td>\n",
       "      <td>0</td>\n",
       "      <td>1</td>\n",
       "    </tr>\n",
       "    <tr>\n",
       "      <th>4</th>\n",
       "      <td>2005-08-19 12:30:04+00:00</td>\n",
       "      <td>2005-08-23 13:35:04+00:00</td>\n",
       "      <td>2.99</td>\n",
       "      <td>2005.0</td>\n",
       "      <td>2.99</td>\n",
       "      <td>126.0</td>\n",
       "      <td>16.99</td>\n",
       "      <td>{Trailers,\"Behind the Scenes\"}</td>\n",
       "      <td>0</td>\n",
       "      <td>0</td>\n",
       "      <td>0</td>\n",
       "      <td>1</td>\n",
       "      <td>8.9401</td>\n",
       "      <td>15876.0</td>\n",
       "      <td>8.9401</td>\n",
       "      <td>4 days 01:05:00</td>\n",
       "      <td>4</td>\n",
       "      <td>0</td>\n",
       "      <td>1</td>\n",
       "    </tr>\n",
       "  </tbody>\n",
       "</table>\n",
       "</div>"
      ],
      "text/plain": [
       "                rental_date  ... behind_the_scenes\n",
       "0 2005-05-25 02:54:33+00:00  ...                 1\n",
       "1 2005-06-15 23:19:16+00:00  ...                 1\n",
       "2 2005-07-10 04:27:45+00:00  ...                 1\n",
       "3 2005-07-31 12:06:41+00:00  ...                 1\n",
       "4 2005-08-19 12:30:04+00:00  ...                 1\n",
       "\n",
       "[5 rows x 19 columns]"
      ]
     },
     "execution_count": 153,
     "metadata": {},
     "output_type": "execute_result"
    }
   ],
   "source": [
    "rental_df.head(10)"
   ]
  },
  {
   "cell_type": "markdown",
   "id": "ac0d2352-096b-4f23-8080-422045252516",
   "metadata": {},
   "source": [
    "## 3. Removing redundancies in feature and target sets and performing train-test split"
   ]
  },
  {
   "cell_type": "code",
   "execution_count": 154,
   "id": "0920b50f",
   "metadata": {
    "executionCancelledAt": null,
    "executionTime": 48,
    "lastExecutedAt": 1720202055518,
    "lastExecutedByKernel": "f59c7cbc-2bcc-4c9b-8005-eb7826784d79",
    "lastScheduledRunId": null,
    "lastSuccessfullyExecutedCode": "from sklearn.model_selection import train_test_split"
   },
   "outputs": [],
   "source": [
    "from sklearn.model_selection import train_test_split"
   ]
  },
  {
   "cell_type": "code",
   "execution_count": 155,
   "id": "044f64d1-0cc8-44de-91aa-fbaef741288f",
   "metadata": {
    "executionCancelledAt": null,
    "executionTime": 58,
    "lastExecutedAt": 1720202055576,
    "lastExecutedByKernel": "f59c7cbc-2bcc-4c9b-8005-eb7826784d79",
    "lastScheduledRunId": null,
    "lastSuccessfullyExecutedCode": "rental_df.columns"
   },
   "outputs": [
    {
     "data": {
      "text/plain": [
       "Index(['rental_date', 'return_date', 'amount', 'release_year', 'rental_rate',\n",
       "       'length', 'replacement_cost', 'special_features', 'NC-17', 'PG',\n",
       "       'PG-13', 'R', 'amount_2', 'length_2', 'rental_rate_2', 'rental_length',\n",
       "       'rental_length_days', 'deleted_scenes', 'behind_the_scenes'],\n",
       "      dtype='object')"
      ]
     },
     "execution_count": 155,
     "metadata": {},
     "output_type": "execute_result"
    }
   ],
   "source": [
    "rental_df.columns"
   ]
  },
  {
   "cell_type": "code",
   "execution_count": 156,
   "id": "cd048c1d-dd6b-4b87-bf16-3b0646640d4b",
   "metadata": {
    "executionCancelledAt": null,
    "executionTime": 54,
    "lastExecutedAt": 1720202055630,
    "lastExecutedByKernel": "f59c7cbc-2bcc-4c9b-8005-eb7826784d79",
    "lastScheduledRunId": null,
    "lastSuccessfullyExecutedCode": "# Choose columns to drop\ncols_to_drop = [\"special_features\", \"rental_length\", \"rental_length_days\", \"rental_date\", \"return_date\"]\n\n# Split into feature and target sets\nX = rental_df.drop(cols_to_drop, axis=1)\ny = rental_df[\"rental_length_days\"]"
   },
   "outputs": [],
   "source": [
    "# Choose columns to drop\n",
    "cols_to_drop = [\"special_features\", \"rental_length\", \"rental_length_days\", \"rental_date\", \"return_date\"]\n",
    "\n",
    "# Split into feature and target sets\n",
    "X = rental_df.drop(cols_to_drop, axis=1)\n",
    "y = rental_df[\"rental_length_days\"]"
   ]
  },
  {
   "cell_type": "code",
   "execution_count": 157,
   "id": "755a061a-47a3-4b1a-9ccc-a65630c4db8f",
   "metadata": {
    "executionCancelledAt": null,
    "executionTime": 48,
    "lastExecutedAt": 1720202055678,
    "lastExecutedByKernel": "f59c7cbc-2bcc-4c9b-8005-eb7826784d79",
    "lastScheduledRunId": null,
    "lastSuccessfullyExecutedCode": "y= rental_df[\"rental_length_days\"]"
   },
   "outputs": [],
   "source": [
    "y= rental_df[\"rental_length_days\"]"
   ]
  },
  {
   "cell_type": "code",
   "execution_count": 158,
   "id": "4b1670f6-a06b-4e97-8701-ce962031873f",
   "metadata": {
    "executionCancelledAt": null,
    "executionTime": 68,
    "lastExecutedAt": 1720202055746,
    "lastExecutedByKernel": "f59c7cbc-2bcc-4c9b-8005-eb7826784d79",
    "lastScheduledRunId": null,
    "lastSuccessfullyExecutedCode": "y.head()\nX.head()\n",
    "outputsMetadata": {
     "0": {
      "height": 50,
      "tableState": {
       "customFilter": {
        "const": {
         "type": "boolean",
         "valid": true,
         "value": true
        },
        "id": "7a315a1f-7e3e-4b88-9aaa-99929ca4ab4b",
        "nodeType": "const"
       }
      },
      "type": "dataFrame"
     }
    }
   },
   "outputs": [
    {
     "data": {
      "application/com.datacamp.data-table.v2+json": {
       "table": {
        "data": {
         "NC-17": [
          0,
          0,
          0,
          0,
          0
         ],
         "PG": [
          0,
          0,
          0,
          0,
          0
         ],
         "PG-13": [
          0,
          0,
          0,
          0,
          0
         ],
         "R": [
          1,
          1,
          1,
          1,
          1
         ],
         "amount": [
          2.99,
          2.99,
          2.99,
          2.99,
          2.99
         ],
         "amount_2": [
          8.9401,
          8.9401,
          8.9401,
          8.9401,
          8.9401
         ],
         "behind_the_scenes": [
          1,
          1,
          1,
          1,
          1
         ],
         "deleted_scenes": [
          0,
          0,
          0,
          0,
          0
         ],
         "index": [
          0,
          1,
          2,
          3,
          4
         ],
         "length": [
          126,
          126,
          126,
          126,
          126
         ],
         "length_2": [
          15876,
          15876,
          15876,
          15876,
          15876
         ],
         "release_year": [
          2005,
          2005,
          2005,
          2005,
          2005
         ],
         "rental_rate": [
          2.99,
          2.99,
          2.99,
          2.99,
          2.99
         ],
         "rental_rate_2": [
          8.9401,
          8.9401,
          8.9401,
          8.9401,
          8.9401
         ],
         "replacement_cost": [
          16.99,
          16.99,
          16.99,
          16.99,
          16.99
         ]
        },
        "schema": {
         "fields": [
          {
           "name": "index",
           "type": "integer"
          },
          {
           "name": "amount",
           "type": "number"
          },
          {
           "name": "release_year",
           "type": "number"
          },
          {
           "name": "rental_rate",
           "type": "number"
          },
          {
           "name": "length",
           "type": "number"
          },
          {
           "name": "replacement_cost",
           "type": "number"
          },
          {
           "name": "NC-17",
           "type": "integer"
          },
          {
           "name": "PG",
           "type": "integer"
          },
          {
           "name": "PG-13",
           "type": "integer"
          },
          {
           "name": "R",
           "type": "integer"
          },
          {
           "name": "amount_2",
           "type": "number"
          },
          {
           "name": "length_2",
           "type": "number"
          },
          {
           "name": "rental_rate_2",
           "type": "number"
          },
          {
           "name": "deleted_scenes",
           "type": "integer"
          },
          {
           "name": "behind_the_scenes",
           "type": "integer"
          }
         ],
         "pandas_version": "1.4.0",
         "primaryKey": [
          "index"
         ]
        }
       },
       "total_rows": 5,
       "truncation_type": null
      },
      "text/html": [
       "<div>\n",
       "<style scoped>\n",
       "    .dataframe tbody tr th:only-of-type {\n",
       "        vertical-align: middle;\n",
       "    }\n",
       "\n",
       "    .dataframe tbody tr th {\n",
       "        vertical-align: top;\n",
       "    }\n",
       "\n",
       "    .dataframe thead th {\n",
       "        text-align: right;\n",
       "    }\n",
       "</style>\n",
       "<table border=\"1\" class=\"dataframe\">\n",
       "  <thead>\n",
       "    <tr style=\"text-align: right;\">\n",
       "      <th></th>\n",
       "      <th>amount</th>\n",
       "      <th>release_year</th>\n",
       "      <th>rental_rate</th>\n",
       "      <th>length</th>\n",
       "      <th>replacement_cost</th>\n",
       "      <th>NC-17</th>\n",
       "      <th>PG</th>\n",
       "      <th>PG-13</th>\n",
       "      <th>R</th>\n",
       "      <th>amount_2</th>\n",
       "      <th>length_2</th>\n",
       "      <th>rental_rate_2</th>\n",
       "      <th>deleted_scenes</th>\n",
       "      <th>behind_the_scenes</th>\n",
       "    </tr>\n",
       "  </thead>\n",
       "  <tbody>\n",
       "    <tr>\n",
       "      <th>0</th>\n",
       "      <td>2.99</td>\n",
       "      <td>2005.0</td>\n",
       "      <td>2.99</td>\n",
       "      <td>126.0</td>\n",
       "      <td>16.99</td>\n",
       "      <td>0</td>\n",
       "      <td>0</td>\n",
       "      <td>0</td>\n",
       "      <td>1</td>\n",
       "      <td>8.9401</td>\n",
       "      <td>15876.0</td>\n",
       "      <td>8.9401</td>\n",
       "      <td>0</td>\n",
       "      <td>1</td>\n",
       "    </tr>\n",
       "    <tr>\n",
       "      <th>1</th>\n",
       "      <td>2.99</td>\n",
       "      <td>2005.0</td>\n",
       "      <td>2.99</td>\n",
       "      <td>126.0</td>\n",
       "      <td>16.99</td>\n",
       "      <td>0</td>\n",
       "      <td>0</td>\n",
       "      <td>0</td>\n",
       "      <td>1</td>\n",
       "      <td>8.9401</td>\n",
       "      <td>15876.0</td>\n",
       "      <td>8.9401</td>\n",
       "      <td>0</td>\n",
       "      <td>1</td>\n",
       "    </tr>\n",
       "    <tr>\n",
       "      <th>2</th>\n",
       "      <td>2.99</td>\n",
       "      <td>2005.0</td>\n",
       "      <td>2.99</td>\n",
       "      <td>126.0</td>\n",
       "      <td>16.99</td>\n",
       "      <td>0</td>\n",
       "      <td>0</td>\n",
       "      <td>0</td>\n",
       "      <td>1</td>\n",
       "      <td>8.9401</td>\n",
       "      <td>15876.0</td>\n",
       "      <td>8.9401</td>\n",
       "      <td>0</td>\n",
       "      <td>1</td>\n",
       "    </tr>\n",
       "    <tr>\n",
       "      <th>3</th>\n",
       "      <td>2.99</td>\n",
       "      <td>2005.0</td>\n",
       "      <td>2.99</td>\n",
       "      <td>126.0</td>\n",
       "      <td>16.99</td>\n",
       "      <td>0</td>\n",
       "      <td>0</td>\n",
       "      <td>0</td>\n",
       "      <td>1</td>\n",
       "      <td>8.9401</td>\n",
       "      <td>15876.0</td>\n",
       "      <td>8.9401</td>\n",
       "      <td>0</td>\n",
       "      <td>1</td>\n",
       "    </tr>\n",
       "    <tr>\n",
       "      <th>4</th>\n",
       "      <td>2.99</td>\n",
       "      <td>2005.0</td>\n",
       "      <td>2.99</td>\n",
       "      <td>126.0</td>\n",
       "      <td>16.99</td>\n",
       "      <td>0</td>\n",
       "      <td>0</td>\n",
       "      <td>0</td>\n",
       "      <td>1</td>\n",
       "      <td>8.9401</td>\n",
       "      <td>15876.0</td>\n",
       "      <td>8.9401</td>\n",
       "      <td>0</td>\n",
       "      <td>1</td>\n",
       "    </tr>\n",
       "  </tbody>\n",
       "</table>\n",
       "</div>"
      ],
      "text/plain": [
       "   amount  release_year  ...  deleted_scenes  behind_the_scenes\n",
       "0    2.99        2005.0  ...               0                  1\n",
       "1    2.99        2005.0  ...               0                  1\n",
       "2    2.99        2005.0  ...               0                  1\n",
       "3    2.99        2005.0  ...               0                  1\n",
       "4    2.99        2005.0  ...               0                  1\n",
       "\n",
       "[5 rows x 14 columns]"
      ]
     },
     "execution_count": 158,
     "metadata": {},
     "output_type": "execute_result"
    }
   ],
   "source": [
    "y.head()\n",
    "X.head()\n"
   ]
  },
  {
   "cell_type": "code",
   "execution_count": 159,
   "id": "218e51d6-d440-453b-a01c-b4de4f91b3a7",
   "metadata": {
    "executionCancelledAt": null,
    "executionTime": 52,
    "lastExecutedAt": 1720202055798,
    "lastExecutedByKernel": "f59c7cbc-2bcc-4c9b-8005-eb7826784d79",
    "lastScheduledRunId": null,
    "lastSuccessfullyExecutedCode": "X_train, X_test, y_train, y_test = train_test_split(X,y, test_size = 0.2, random_state= 9)"
   },
   "outputs": [],
   "source": [
    "X_train, X_test, y_train, y_test = train_test_split(X,y, test_size = 0.2, random_state= 9)"
   ]
  },
  {
   "cell_type": "markdown",
   "id": "1888cda4-832b-47d1-9032-aaac447e51a0",
   "metadata": {},
   "source": [
    "## 4. Feature Selection"
   ]
  },
  {
   "cell_type": "code",
   "execution_count": 160,
   "id": "9a09932e-3d9c-4267-8e9b-783aaffe16e5",
   "metadata": {
    "executionCancelledAt": null,
    "executionTime": 52,
    "lastExecutedAt": 1720202055850,
    "lastExecutedByKernel": "f59c7cbc-2bcc-4c9b-8005-eb7826784d79",
    "lastScheduledRunId": null,
    "lastSuccessfullyExecutedCode": "from sklearn.linear_model import Lasso\nimport matplotlib.pyplot as plt\nfrom sklearn.preprocessing import StandardScaler\n\n"
   },
   "outputs": [],
   "source": [
    "from sklearn.linear_model import Lasso\n",
    "import matplotlib.pyplot as plt\n",
    "from sklearn.preprocessing import StandardScaler\n",
    "\n"
   ]
  },
  {
   "cell_type": "code",
   "execution_count": 161,
   "id": "37bc52ea-8ef5-4335-b467-b229eb18676e",
   "metadata": {
    "executionCancelledAt": null,
    "executionTime": 47,
    "lastExecutedAt": 1720202055898,
    "lastExecutedByKernel": "f59c7cbc-2bcc-4c9b-8005-eb7826784d79",
    "lastScheduledRunId": null,
    "lastSuccessfullyExecutedCode": "feature_selector_model = Lasso(random_state=9, alpha = 0.3)"
   },
   "outputs": [],
   "source": [
    "feature_selector_model = Lasso(random_state=9, alpha = 0.3)"
   ]
  },
  {
   "cell_type": "code",
   "execution_count": 162,
   "id": "94172717-68bc-4c81-a2d4-d039b6a2096f",
   "metadata": {
    "executionCancelledAt": null,
    "executionTime": 126,
    "lastExecutedAt": 1720202056024,
    "lastExecutedByKernel": "f59c7cbc-2bcc-4c9b-8005-eb7826784d79",
    "lastScheduledRunId": null,
    "lastSuccessfullyExecutedCode": "feature_selector_model.fit(X_train, y_train)"
   },
   "outputs": [
    {
     "data": {
      "text/html": [
       "<style>#sk-container-id-7 {color: black;background-color: white;}#sk-container-id-7 pre{padding: 0;}#sk-container-id-7 div.sk-toggleable {background-color: white;}#sk-container-id-7 label.sk-toggleable__label {cursor: pointer;display: block;width: 100%;margin-bottom: 0;padding: 0.3em;box-sizing: border-box;text-align: center;}#sk-container-id-7 label.sk-toggleable__label-arrow:before {content: \"▸\";float: left;margin-right: 0.25em;color: #696969;}#sk-container-id-7 label.sk-toggleable__label-arrow:hover:before {color: black;}#sk-container-id-7 div.sk-estimator:hover label.sk-toggleable__label-arrow:before {color: black;}#sk-container-id-7 div.sk-toggleable__content {max-height: 0;max-width: 0;overflow: hidden;text-align: left;background-color: #f0f8ff;}#sk-container-id-7 div.sk-toggleable__content pre {margin: 0.2em;color: black;border-radius: 0.25em;background-color: #f0f8ff;}#sk-container-id-7 input.sk-toggleable__control:checked~div.sk-toggleable__content {max-height: 200px;max-width: 100%;overflow: auto;}#sk-container-id-7 input.sk-toggleable__control:checked~label.sk-toggleable__label-arrow:before {content: \"▾\";}#sk-container-id-7 div.sk-estimator input.sk-toggleable__control:checked~label.sk-toggleable__label {background-color: #d4ebff;}#sk-container-id-7 div.sk-label input.sk-toggleable__control:checked~label.sk-toggleable__label {background-color: #d4ebff;}#sk-container-id-7 input.sk-hidden--visually {border: 0;clip: rect(1px 1px 1px 1px);clip: rect(1px, 1px, 1px, 1px);height: 1px;margin: -1px;overflow: hidden;padding: 0;position: absolute;width: 1px;}#sk-container-id-7 div.sk-estimator {font-family: monospace;background-color: #f0f8ff;border: 1px dotted black;border-radius: 0.25em;box-sizing: border-box;margin-bottom: 0.5em;}#sk-container-id-7 div.sk-estimator:hover {background-color: #d4ebff;}#sk-container-id-7 div.sk-parallel-item::after {content: \"\";width: 100%;border-bottom: 1px solid gray;flex-grow: 1;}#sk-container-id-7 div.sk-label:hover label.sk-toggleable__label {background-color: #d4ebff;}#sk-container-id-7 div.sk-serial::before {content: \"\";position: absolute;border-left: 1px solid gray;box-sizing: border-box;top: 0;bottom: 0;left: 50%;z-index: 0;}#sk-container-id-7 div.sk-serial {display: flex;flex-direction: column;align-items: center;background-color: white;padding-right: 0.2em;padding-left: 0.2em;position: relative;}#sk-container-id-7 div.sk-item {position: relative;z-index: 1;}#sk-container-id-7 div.sk-parallel {display: flex;align-items: stretch;justify-content: center;background-color: white;position: relative;}#sk-container-id-7 div.sk-item::before, #sk-container-id-7 div.sk-parallel-item::before {content: \"\";position: absolute;border-left: 1px solid gray;box-sizing: border-box;top: 0;bottom: 0;left: 50%;z-index: -1;}#sk-container-id-7 div.sk-parallel-item {display: flex;flex-direction: column;z-index: 1;position: relative;background-color: white;}#sk-container-id-7 div.sk-parallel-item:first-child::after {align-self: flex-end;width: 50%;}#sk-container-id-7 div.sk-parallel-item:last-child::after {align-self: flex-start;width: 50%;}#sk-container-id-7 div.sk-parallel-item:only-child::after {width: 0;}#sk-container-id-7 div.sk-dashed-wrapped {border: 1px dashed gray;margin: 0 0.4em 0.5em 0.4em;box-sizing: border-box;padding-bottom: 0.4em;background-color: white;}#sk-container-id-7 div.sk-label label {font-family: monospace;font-weight: bold;display: inline-block;line-height: 1.2em;}#sk-container-id-7 div.sk-label-container {text-align: center;}#sk-container-id-7 div.sk-container {/* jupyter's `normalize.less` sets `[hidden] { display: none; }` but bootstrap.min.css set `[hidden] { display: none !important; }` so we also need the `!important` here to be able to override the default hidden behavior on the sphinx rendered scikit-learn.org. See: https://github.com/scikit-learn/scikit-learn/issues/21755 */display: inline-block !important;position: relative;}#sk-container-id-7 div.sk-text-repr-fallback {display: none;}</style><div id=\"sk-container-id-7\" class=\"sk-top-container\"><div class=\"sk-text-repr-fallback\"><pre>Lasso(alpha=0.3, random_state=9)</pre><b>In a Jupyter environment, please rerun this cell to show the HTML representation or trust the notebook. <br />On GitHub, the HTML representation is unable to render, please try loading this page with nbviewer.org.</b></div><div class=\"sk-container\" hidden><div class=\"sk-item\"><div class=\"sk-estimator sk-toggleable\"><input class=\"sk-toggleable__control sk-hidden--visually\" id=\"sk-estimator-id-13\" type=\"checkbox\" checked><label for=\"sk-estimator-id-13\" class=\"sk-toggleable__label sk-toggleable__label-arrow\">Lasso</label><div class=\"sk-toggleable__content\"><pre>Lasso(alpha=0.3, random_state=9)</pre></div></div></div></div></div>"
      ],
      "text/plain": [
       "Lasso(alpha=0.3, random_state=9)"
      ]
     },
     "execution_count": 162,
     "metadata": {},
     "output_type": "execute_result"
    }
   ],
   "source": [
    "feature_selector_model.fit(X_train, y_train)"
   ]
  },
  {
   "cell_type": "code",
   "execution_count": 163,
   "id": "0f01b554-f95f-453a-bc8b-bb447a4a4eb6",
   "metadata": {
    "executionCancelledAt": null,
    "executionTime": 53,
    "lastExecutedAt": 1720202056078,
    "lastExecutedByKernel": "f59c7cbc-2bcc-4c9b-8005-eb7826784d79",
    "lastScheduledRunId": null,
    "lastSuccessfullyExecutedCode": "feature_selector_model.coef_"
   },
   "outputs": [
    {
     "data": {
      "text/plain": [
       "array([ 5.84104424e-01,  0.00000000e+00, -0.00000000e+00,  0.00000000e+00,\n",
       "       -0.00000000e+00,  0.00000000e+00,  0.00000000e+00,  0.00000000e+00,\n",
       "       -0.00000000e+00,  4.36220109e-02,  3.01167812e-06, -1.52983561e-01,\n",
       "       -0.00000000e+00,  0.00000000e+00])"
      ]
     },
     "execution_count": 163,
     "metadata": {},
     "output_type": "execute_result"
    }
   ],
   "source": [
    "feature_selector_model.coef_"
   ]
  },
  {
   "cell_type": "code",
   "execution_count": 164,
   "id": "1a580796-3ab5-4d65-ada8-8780c27ee721",
   "metadata": {
    "executionCancelledAt": null,
    "executionTime": 318,
    "lastExecutedAt": 1720202056396,
    "lastExecutedByKernel": "f59c7cbc-2bcc-4c9b-8005-eb7826784d79",
    "lastScheduledRunId": null,
    "lastSuccessfullyExecutedCode": "plt.barh(X_train.columns, feature_selector_model.coef_, label=X_train.columns)"
   },
   "outputs": [
    {
     "data": {
      "text/plain": [
       "<BarContainer object of 14 artists>"
      ]
     },
     "execution_count": 164,
     "metadata": {},
     "output_type": "execute_result"
    },
    {
     "data": {
      "image/png": "[encoded data removed]",
      "text/plain": [
       "<Figure size 640x480 with 1 Axes>"
      ]
     },
     "metadata": {
      "image/png": {
       "height": 413,
       "width": 666
      }
     },
     "output_type": "display_data"
    }
   ],
   "source": [
    "plt.barh(X_train.columns, feature_selector_model.coef_, label=X_train.columns)"
   ]
  },
  {
   "cell_type": "code",
   "execution_count": 165,
   "id": "39a9e6e3-69cd-4ba0-a565-30a753c03620",
   "metadata": {
    "executionCancelledAt": null,
    "executionTime": 50,
    "lastExecutedAt": 1720202056446,
    "lastExecutedByKernel": "f59c7cbc-2bcc-4c9b-8005-eb7826784d79",
    "lastScheduledRunId": null,
    "lastSuccessfullyExecutedCode": "plt.show()"
   },
   "outputs": [],
   "source": [
    "plt.show()"
   ]
  },
  {
   "cell_type": "code",
   "execution_count": 166,
   "id": "f4de9780",
   "metadata": {
    "executionCancelledAt": null,
    "executionTime": 48,
    "lastExecutedAt": 1720202056494,
    "lastExecutedByKernel": "f59c7cbc-2bcc-4c9b-8005-eb7826784d79",
    "lastScheduledRunId": null,
    "lastSuccessfullyExecutedCode": "useful_features_boolarray = feature_selector_model.coef_>0"
   },
   "outputs": [],
   "source": [
    "useful_features_boolarray = feature_selector_model.coef_>0"
   ]
  },
  {
   "cell_type": "code",
   "execution_count": 167,
   "id": "e9a3a2c7",
   "metadata": {
    "executionCancelledAt": null,
    "executionTime": 51,
    "lastExecutedAt": 1720202056546,
    "lastExecutedByKernel": "f59c7cbc-2bcc-4c9b-8005-eb7826784d79",
    "lastScheduledRunId": null,
    "lastSuccessfullyExecutedCode": "X_train_new, X_test_new = X_train.iloc[:, useful_features_boolarray], X_test.iloc[:,useful_features_boolarray]"
   },
   "outputs": [],
   "source": [
    "X_train_new, X_test_new = X_train.iloc[:, useful_features_boolarray], X_test.iloc[:,useful_features_boolarray]"
   ]
  },
  {
   "cell_type": "code",
   "execution_count": 168,
   "id": "3f42fd60",
   "metadata": {
    "executionCancelledAt": null,
    "executionTime": 60,
    "lastExecutedAt": 1720202056606,
    "lastExecutedByKernel": "f59c7cbc-2bcc-4c9b-8005-eb7826784d79",
    "lastScheduledRunId": null,
    "lastSuccessfullyExecutedCode": "X_train_new.head()",
    "outputsMetadata": {
     "0": {
      "height": 50,
      "tableState": {
       "customFilter": {
        "const": {
         "type": "boolean",
         "valid": true,
         "value": true
        },
        "id": "7a315a1f-7e3e-4b88-9aaa-99929ca4ab4b",
        "nodeType": "const"
       }
      },
      "type": "dataFrame"
     }
    }
   },
   "outputs": [
    {
     "data": {
      "application/com.datacamp.data-table.v2+json": {
       "table": {
        "data": {
         "amount": [
          2.99,
          4.99,
          6.99,
          2.99,
          5.99
         ],
         "amount_2": [
          8.9401,
          24.9001,
          48.8601,
          8.9401,
          35.8801
         ],
         "index": [
          6682,
          8908,
          11827,
          6153,
          10713
         ],
         "length_2": [
          8100,
          2809,
          29241,
          5329,
          14884
         ]
        },
        "schema": {
         "fields": [
          {
           "name": "index",
           "type": "integer"
          },
          {
           "name": "amount",
           "type": "number"
          },
          {
           "name": "amount_2",
           "type": "number"
          },
          {
           "name": "length_2",
           "type": "number"
          }
         ],
         "pandas_version": "1.4.0",
         "primaryKey": [
          "index"
         ]
        }
       },
       "total_rows": 5,
       "truncation_type": null
      },
      "text/html": [
       "<div>\n",
       "<style scoped>\n",
       "    .dataframe tbody tr th:only-of-type {\n",
       "        vertical-align: middle;\n",
       "    }\n",
       "\n",
       "    .dataframe tbody tr th {\n",
       "        vertical-align: top;\n",
       "    }\n",
       "\n",
       "    .dataframe thead th {\n",
       "        text-align: right;\n",
       "    }\n",
       "</style>\n",
       "<table border=\"1\" class=\"dataframe\">\n",
       "  <thead>\n",
       "    <tr style=\"text-align: right;\">\n",
       "      <th></th>\n",
       "      <th>amount</th>\n",
       "      <th>amount_2</th>\n",
       "      <th>length_2</th>\n",
       "    </tr>\n",
       "  </thead>\n",
       "  <tbody>\n",
       "    <tr>\n",
       "      <th>6682</th>\n",
       "      <td>2.99</td>\n",
       "      <td>8.9401</td>\n",
       "      <td>8100.0</td>\n",
       "    </tr>\n",
       "    <tr>\n",
       "      <th>8908</th>\n",
       "      <td>4.99</td>\n",
       "      <td>24.9001</td>\n",
       "      <td>2809.0</td>\n",
       "    </tr>\n",
       "    <tr>\n",
       "      <th>11827</th>\n",
       "      <td>6.99</td>\n",
       "      <td>48.8601</td>\n",
       "      <td>29241.0</td>\n",
       "    </tr>\n",
       "    <tr>\n",
       "      <th>6153</th>\n",
       "      <td>2.99</td>\n",
       "      <td>8.9401</td>\n",
       "      <td>5329.0</td>\n",
       "    </tr>\n",
       "    <tr>\n",
       "      <th>10713</th>\n",
       "      <td>5.99</td>\n",
       "      <td>35.8801</td>\n",
       "      <td>14884.0</td>\n",
       "    </tr>\n",
       "  </tbody>\n",
       "</table>\n",
       "</div>"
      ],
      "text/plain": [
       "       amount  amount_2  length_2\n",
       "6682     2.99    8.9401    8100.0\n",
       "8908     4.99   24.9001    2809.0\n",
       "11827    6.99   48.8601   29241.0\n",
       "6153     2.99    8.9401    5329.0\n",
       "10713    5.99   35.8801   14884.0"
      ]
     },
     "execution_count": 168,
     "metadata": {},
     "output_type": "execute_result"
    }
   ],
   "source": [
    "X_train_new.head()"
   ]
  },
  {
   "cell_type": "markdown",
   "id": "22d6198d",
   "metadata": {},
   "source": [
    "## 5. Running and evaluating different regression models"
   ]
  },
  {
   "cell_type": "code",
   "execution_count": 169,
   "id": "343a98e7",
   "metadata": {
    "executionCancelledAt": null,
    "executionTime": 48,
    "lastExecutedAt": 1720202056654,
    "lastExecutedByKernel": "f59c7cbc-2bcc-4c9b-8005-eb7826784d79",
    "lastScheduledRunId": null,
    "lastSuccessfullyExecutedCode": "from sklearn.linear_model import LinearRegression\nfrom sklearn.ensemble import RandomForestRegressor\nfrom sklearn.tree import DecisionTreeRegressor\n\n\nfrom sklearn.metrics import mean_squared_error\nfrom sklearn.model_selection import GridSearchCV\nfrom sklearn.model_selection import RandomizedSearchCV"
   },
   "outputs": [],
   "source": [
    "from sklearn.linear_model import LinearRegression\n",
    "from sklearn.ensemble import RandomForestRegressor\n",
    "from sklearn.tree import DecisionTreeRegressor\n",
    "\n",
    "\n",
    "from sklearn.metrics import mean_squared_error\n",
    "from sklearn.model_selection import GridSearchCV\n",
    "from sklearn.model_selection import RandomizedSearchCV"
   ]
  },
  {
   "cell_type": "code",
   "execution_count": 170,
   "id": "ac895feb",
   "metadata": {
    "executionCancelledAt": null,
    "executionTime": 69,
    "lastExecutedAt": 1720202056723,
    "lastExecutedByKernel": "f59c7cbc-2bcc-4c9b-8005-eb7826784d79",
    "lastScheduledRunId": null,
    "lastSuccessfullyExecutedCode": "ols = LinearRegression()\nols = ols.fit(X_train_new, y_train)\ny_test_pred = ols.predict(X_test_new)\nmse_ols = mean_squared_error(y_test, y_test_pred)\nprint(mse_ols)",
    "outputsMetadata": {
     "0": {
      "height": 38,
      "type": "stream"
     }
    }
   },
   "outputs": [
    {
     "name": "stdout",
     "output_type": "stream",
     "text": [
      "4.812297241276244\n"
     ]
    }
   ],
   "source": [
    "ols = LinearRegression()\n",
    "ols = ols.fit(X_train_new, y_train)\n",
    "y_test_pred = ols.predict(X_test_new)\n",
    "mse_ols = mean_squared_error(y_test, y_test_pred)\n",
    "print(mse_ols)"
   ]
  },
  {
   "cell_type": "code",
   "execution_count": 171,
   "id": "6db12b08",
   "metadata": {
    "executionCancelledAt": null,
    "executionTime": 108,
    "lastExecutedAt": 1720202056831,
    "lastExecutedByKernel": "f59c7cbc-2bcc-4c9b-8005-eb7826784d79",
    "lastScheduledRunId": null,
    "lastSuccessfullyExecutedCode": "dt = DecisionTreeRegressor()\ndt.fit(X_train_new, y_train)\ny_test_pred = dt.predict(X_test_new)\nmse_dt = mean_squared_error(y_test, y_test_pred)\nprint(mse_dt)",
    "outputsMetadata": {
     "0": {
      "height": 38,
      "type": "stream"
     }
    }
   },
   "outputs": [
    {
     "name": "stdout",
     "output_type": "stream",
     "text": [
      "3.645633359745855\n"
     ]
    }
   ],
   "source": [
    "dt = DecisionTreeRegressor()\n",
    "dt.fit(X_train_new, y_train)\n",
    "y_test_pred = dt.predict(X_test_new)\n",
    "mse_dt = mean_squared_error(y_test, y_test_pred)\n",
    "print(mse_dt)"
   ]
  },
  {
   "cell_type": "code",
   "execution_count": 172,
   "id": "38a829da",
   "metadata": {
    "executionCancelledAt": null,
    "executionTime": 47,
    "lastExecutedAt": 1720202056878,
    "lastExecutedByKernel": "f59c7cbc-2bcc-4c9b-8005-eb7826784d79",
    "lastScheduledRunId": null,
    "lastSuccessfullyExecutedCode": "rf = RandomForestRegressor()\nrf_params = {\n    \"n_estimators\": np.arange(1,101,1),\n    \"max_depth\": np.arange(1,11,1)\n}"
   },
   "outputs": [],
   "source": [
    "rf = RandomForestRegressor()\n",
    "rf_params = {\n",
    "    \"n_estimators\": np.arange(1,101,1),\n",
    "    \"max_depth\": np.arange(1,11,1)\n",
    "}"
   ]
  },
  {
   "cell_type": "code",
   "execution_count": 173,
   "id": "042ca43f",
   "metadata": {
    "executionCancelledAt": null,
    "executionTime": 48,
    "lastExecutedAt": 1720202056926,
    "lastExecutedByKernel": "f59c7cbc-2bcc-4c9b-8005-eb7826784d79",
    "lastScheduledRunId": null,
    "lastSuccessfullyExecutedCode": "random_search = RandomizedSearchCV(estimator=rf, n_jobs=-1, param_distributions=rf_params, cv =5, random_state=9)"
   },
   "outputs": [],
   "source": [
    "random_search = RandomizedSearchCV(estimator=rf, n_jobs=-1, param_distributions=rf_params, cv =5, random_state=9)"
   ]
  },
  {
   "cell_type": "code",
   "execution_count": 174,
   "id": "ce0202f0",
   "metadata": {
    "executionCancelledAt": null,
    "executionTime": 4763,
    "lastExecutedAt": 1720202061690,
    "lastExecutedByKernel": "f59c7cbc-2bcc-4c9b-8005-eb7826784d79",
    "lastScheduledRunId": null,
    "lastSuccessfullyExecutedCode": "random_search.fit(X_train_new, y_train)",
    "outputsMetadata": {
     "0": {
      "height": 101,
      "type": "stream"
     }
    }
   },
   "outputs": [
    {
     "data": {
      "text/html": [
       "<style>#sk-container-id-8 {color: black;background-color: white;}#sk-container-id-8 pre{padding: 0;}#sk-container-id-8 div.sk-toggleable {background-color: white;}#sk-container-id-8 label.sk-toggleable__label {cursor: pointer;display: block;width: 100%;margin-bottom: 0;padding: 0.3em;box-sizing: border-box;text-align: center;}#sk-container-id-8 label.sk-toggleable__label-arrow:before {content: \"▸\";float: left;margin-right: 0.25em;color: #696969;}#sk-container-id-8 label.sk-toggleable__label-arrow:hover:before {color: black;}#sk-container-id-8 div.sk-estimator:hover label.sk-toggleable__label-arrow:before {color: black;}#sk-container-id-8 div.sk-toggleable__content {max-height: 0;max-width: 0;overflow: hidden;text-align: left;background-color: #f0f8ff;}#sk-container-id-8 div.sk-toggleable__content pre {margin: 0.2em;color: black;border-radius: 0.25em;background-color: #f0f8ff;}#sk-container-id-8 input.sk-toggleable__control:checked~div.sk-toggleable__content {max-height: 200px;max-width: 100%;overflow: auto;}#sk-container-id-8 input.sk-toggleable__control:checked~label.sk-toggleable__label-arrow:before {content: \"▾\";}#sk-container-id-8 div.sk-estimator input.sk-toggleable__control:checked~label.sk-toggleable__label {background-color: #d4ebff;}#sk-container-id-8 div.sk-label input.sk-toggleable__control:checked~label.sk-toggleable__label {background-color: #d4ebff;}#sk-container-id-8 input.sk-hidden--visually {border: 0;clip: rect(1px 1px 1px 1px);clip: rect(1px, 1px, 1px, 1px);height: 1px;margin: -1px;overflow: hidden;padding: 0;position: absolute;width: 1px;}#sk-container-id-8 div.sk-estimator {font-family: monospace;background-color: #f0f8ff;border: 1px dotted black;border-radius: 0.25em;box-sizing: border-box;margin-bottom: 0.5em;}#sk-container-id-8 div.sk-estimator:hover {background-color: #d4ebff;}#sk-container-id-8 div.sk-parallel-item::after {content: \"\";width: 100%;border-bottom: 1px solid gray;flex-grow: 1;}#sk-container-id-8 div.sk-label:hover label.sk-toggleable__label {background-color: #d4ebff;}#sk-container-id-8 div.sk-serial::before {content: \"\";position: absolute;border-left: 1px solid gray;box-sizing: border-box;top: 0;bottom: 0;left: 50%;z-index: 0;}#sk-container-id-8 div.sk-serial {display: flex;flex-direction: column;align-items: center;background-color: white;padding-right: 0.2em;padding-left: 0.2em;position: relative;}#sk-container-id-8 div.sk-item {position: relative;z-index: 1;}#sk-container-id-8 div.sk-parallel {display: flex;align-items: stretch;justify-content: center;background-color: white;position: relative;}#sk-container-id-8 div.sk-item::before, #sk-container-id-8 div.sk-parallel-item::before {content: \"\";position: absolute;border-left: 1px solid gray;box-sizing: border-box;top: 0;bottom: 0;left: 50%;z-index: -1;}#sk-container-id-8 div.sk-parallel-item {display: flex;flex-direction: column;z-index: 1;position: relative;background-color: white;}#sk-container-id-8 div.sk-parallel-item:first-child::after {align-self: flex-end;width: 50%;}#sk-container-id-8 div.sk-parallel-item:last-child::after {align-self: flex-start;width: 50%;}#sk-container-id-8 div.sk-parallel-item:only-child::after {width: 0;}#sk-container-id-8 div.sk-dashed-wrapped {border: 1px dashed gray;margin: 0 0.4em 0.5em 0.4em;box-sizing: border-box;padding-bottom: 0.4em;background-color: white;}#sk-container-id-8 div.sk-label label {font-family: monospace;font-weight: bold;display: inline-block;line-height: 1.2em;}#sk-container-id-8 div.sk-label-container {text-align: center;}#sk-container-id-8 div.sk-container {/* jupyter's `normalize.less` sets `[hidden] { display: none; }` but bootstrap.min.css set `[hidden] { display: none !important; }` so we also need the `!important` here to be able to override the default hidden behavior on the sphinx rendered scikit-learn.org. See: https://github.com/scikit-learn/scikit-learn/issues/21755 */display: inline-block !important;position: relative;}#sk-container-id-8 div.sk-text-repr-fallback {display: none;}</style><div id=\"sk-container-id-8\" class=\"sk-top-container\"><div class=\"sk-text-repr-fallback\"><pre>RandomizedSearchCV(cv=5, estimator=RandomForestRegressor(), n_jobs=-1,\n",
       "                   param_distributions={&#x27;max_depth&#x27;: array([ 1,  2,  3,  4,  5,  6,  7,  8,  9, 10]),\n",
       "                                        &#x27;n_estimators&#x27;: array([  1,   2,   3,   4,   5,   6,   7,   8,   9,  10,  11,  12,  13,\n",
       "        14,  15,  16,  17,  18,  19,  20,  21,  22,  23,  24,  25,  26,\n",
       "        27,  28,  29,  30,  31,  32,  33,  34,  35,  36,  37,  38,  39,\n",
       "        40,  41,  42,  43,  44,  45,  46,  47,  48,  49,  50,  51,  52,\n",
       "        53,  54,  55,  56,  57,  58,  59,  60,  61,  62,  63,  64,  65,\n",
       "        66,  67,  68,  69,  70,  71,  72,  73,  74,  75,  76,  77,  78,\n",
       "        79,  80,  81,  82,  83,  84,  85,  86,  87,  88,  89,  90,  91,\n",
       "        92,  93,  94,  95,  96,  97,  98,  99, 100])},\n",
       "                   random_state=9)</pre><b>In a Jupyter environment, please rerun this cell to show the HTML representation or trust the notebook. <br />On GitHub, the HTML representation is unable to render, please try loading this page with nbviewer.org.</b></div><div class=\"sk-container\" hidden><div class=\"sk-item sk-dashed-wrapped\"><div class=\"sk-label-container\"><div class=\"sk-label sk-toggleable\"><input class=\"sk-toggleable__control sk-hidden--visually\" id=\"sk-estimator-id-14\" type=\"checkbox\" ><label for=\"sk-estimator-id-14\" class=\"sk-toggleable__label sk-toggleable__label-arrow\">RandomizedSearchCV</label><div class=\"sk-toggleable__content\"><pre>RandomizedSearchCV(cv=5, estimator=RandomForestRegressor(), n_jobs=-1,\n",
       "                   param_distributions={&#x27;max_depth&#x27;: array([ 1,  2,  3,  4,  5,  6,  7,  8,  9, 10]),\n",
       "                                        &#x27;n_estimators&#x27;: array([  1,   2,   3,   4,   5,   6,   7,   8,   9,  10,  11,  12,  13,\n",
       "        14,  15,  16,  17,  18,  19,  20,  21,  22,  23,  24,  25,  26,\n",
       "        27,  28,  29,  30,  31,  32,  33,  34,  35,  36,  37,  38,  39,\n",
       "        40,  41,  42,  43,  44,  45,  46,  47,  48,  49,  50,  51,  52,\n",
       "        53,  54,  55,  56,  57,  58,  59,  60,  61,  62,  63,  64,  65,\n",
       "        66,  67,  68,  69,  70,  71,  72,  73,  74,  75,  76,  77,  78,\n",
       "        79,  80,  81,  82,  83,  84,  85,  86,  87,  88,  89,  90,  91,\n",
       "        92,  93,  94,  95,  96,  97,  98,  99, 100])},\n",
       "                   random_state=9)</pre></div></div></div><div class=\"sk-parallel\"><div class=\"sk-parallel-item\"><div class=\"sk-item\"><div class=\"sk-label-container\"><div class=\"sk-label sk-toggleable\"><input class=\"sk-toggleable__control sk-hidden--visually\" id=\"sk-estimator-id-15\" type=\"checkbox\" ><label for=\"sk-estimator-id-15\" class=\"sk-toggleable__label sk-toggleable__label-arrow\">estimator: RandomForestRegressor</label><div class=\"sk-toggleable__content\"><pre>RandomForestRegressor()</pre></div></div></div><div class=\"sk-serial\"><div class=\"sk-item\"><div class=\"sk-estimator sk-toggleable\"><input class=\"sk-toggleable__control sk-hidden--visually\" id=\"sk-estimator-id-16\" type=\"checkbox\" ><label for=\"sk-estimator-id-16\" class=\"sk-toggleable__label sk-toggleable__label-arrow\">RandomForestRegressor</label><div class=\"sk-toggleable__content\"><pre>RandomForestRegressor()</pre></div></div></div></div></div></div></div></div></div></div>"
      ],
      "text/plain": [
       "RandomizedSearchCV(cv=5, estimator=RandomForestRegressor(), n_jobs=-1,\n",
       "                   param_distributions={'max_depth': array([ 1,  2,  3,  4,  5,  6,  7,  8,  9, 10]),\n",
       "                                        'n_estimators': array([  1,   2,   3,   4,   5,   6,   7,   8,   9,  10,  11,  12,  13,\n",
       "        14,  15,  16,  17,  18,  19,  20,  21,  22,  23,  24,  25,  26,\n",
       "        27,  28,  29,  30,  31,  32,  33,  34,  35,  36,  37,  38,  39,\n",
       "        40,  41,  42,  43,  44,  45,  46,  47,  48,  49,  50,  51,  52,\n",
       "        53,  54,  55,  56,  57,  58,  59,  60,  61,  62,  63,  64,  65,\n",
       "        66,  67,  68,  69,  70,  71,  72,  73,  74,  75,  76,  77,  78,\n",
       "        79,  80,  81,  82,  83,  84,  85,  86,  87,  88,  89,  90,  91,\n",
       "        92,  93,  94,  95,  96,  97,  98,  99, 100])},\n",
       "                   random_state=9)"
      ]
     },
     "execution_count": 174,
     "metadata": {},
     "output_type": "execute_result"
    }
   ],
   "source": [
    "random_search.fit(X_train_new, y_train)"
   ]
  },
  {
   "cell_type": "code",
   "execution_count": 175,
   "id": "aaaa4496",
   "metadata": {
    "executionCancelledAt": null,
    "executionTime": 56,
    "lastExecutedAt": 1720202061747,
    "lastExecutedByKernel": "f59c7cbc-2bcc-4c9b-8005-eb7826784d79",
    "lastScheduledRunId": null,
    "lastSuccessfullyExecutedCode": "random_search.best_params_"
   },
   "outputs": [
    {
     "data": {
      "text/plain": [
       "{'n_estimators': 51, 'max_depth': 10}"
      ]
     },
     "execution_count": 175,
     "metadata": {},
     "output_type": "execute_result"
    }
   ],
   "source": [
    "random_search.best_params_"
   ]
  },
  {
   "cell_type": "code",
   "execution_count": 176,
   "id": "6e28aab0",
   "metadata": {
    "executionCancelledAt": null,
    "executionTime": 47,
    "lastExecutedAt": 1720202061794,
    "lastExecutedByKernel": "f59c7cbc-2bcc-4c9b-8005-eb7826784d79",
    "lastScheduledRunId": null,
    "lastSuccessfullyExecutedCode": "best_rf = random_search.best_estimator_"
   },
   "outputs": [],
   "source": [
    "best_rf = random_search.best_estimator_"
   ]
  },
  {
   "cell_type": "code",
   "execution_count": 177,
   "id": "576ef0cf",
   "metadata": {
    "executionCancelledAt": null,
    "executionTime": 903,
    "lastExecutedAt": 1720202062697,
    "lastExecutedByKernel": "f59c7cbc-2bcc-4c9b-8005-eb7826784d79",
    "lastScheduledRunId": null,
    "lastSuccessfullyExecutedCode": "best_rf.fit(X_train, y_train)\ny_test_pred = best_rf.predict(X_test)\n\nmse_rf = mean_squared_error(y_test, y_test_pred)"
   },
   "outputs": [],
   "source": [
    "best_rf.fit(X_train, y_train)\n",
    "y_test_pred = best_rf.predict(X_test)\n",
    "\n",
    "mse_rf = mean_squared_error(y_test, y_test_pred)"
   ]
  },
  {
   "cell_type": "code",
   "execution_count": 178,
   "id": "4a99f623",
   "metadata": {
    "executionCancelledAt": null,
    "executionTime": 48,
    "lastExecutedAt": 1720202062746,
    "lastExecutedByKernel": "f59c7cbc-2bcc-4c9b-8005-eb7826784d79",
    "lastScheduledRunId": null,
    "lastSuccessfullyExecutedCode": "mse_rf"
   },
   "outputs": [
    {
     "data": {
      "text/plain": [
       "2.220369899149945"
      ]
     },
     "execution_count": 178,
     "metadata": {},
     "output_type": "execute_result"
    }
   ],
   "source": [
    "mse_rf"
   ]
  },
  {
   "cell_type": "markdown",
   "id": "0daa9cfa",
   "metadata": {},
   "source": [
    "## 6. Conclusion"
   ]
  },
  {
   "cell_type": "code",
   "execution_count": 179,
   "id": "3ab45413",
   "metadata": {
    "executionCancelledAt": null,
    "executionTime": 48,
    "lastExecutedAt": 1720202062794,
    "lastExecutedByKernel": "f59c7cbc-2bcc-4c9b-8005-eb7826784d79",
    "lastScheduledRunId": null,
    "lastSuccessfullyExecutedCode": "best_model = rf\nbest_mse = mse_rf"
   },
   "outputs": [],
   "source": [
    "best_model = rf\n",
    "best_mse = mse_rf"
   ]
  },
  {
   "cell_type": "code",
   "execution_count": 5,
   "id": "161fb57c",
   "metadata": {
    "executionCancelledAt": null,
    "executionTime": 48,
    "lastExecutedAt": 1720202062842,
    "lastExecutedByKernel": "f59c7cbc-2bcc-4c9b-8005-eb7826784d79",
    "lastScheduledRunId": null,
    "lastSuccessfullyExecutedCode": ""
   },
   "outputs": [
    {
     "name": "stdout",
     "output_type": "stream",
     "text": [
      "the best model and best mse have been found -sunil\n"
     ]
    }
   ],
   "source": [
    "print(\"the best model and best mse have been found -sunil\")"
   ]
  },
  {
   "cell_type": "code",
   "execution_count": null,
   "id": "93c549d1",
   "metadata": {},
   "outputs": [],
   "source": []
  }
 ],
 "metadata": {
  "colab": {
   "name": "Welcome to DataCamp Workspaces.ipynb",
   "provenance": []
  },
  "editor": "DataLab",
  "kernelspec": {
   "display_name": "Python 3",
   "language": "python",
   "name": "python3"
  },
  "language_info": {
   "codemirror_mode": {
    "name": "ipython",
    "version": 3
   },
   "file_extension": ".py",
   "mimetype": "text/x-python",
   "name": "python",
   "nbconvert_exporter": "python",
   "pygments_lexer": "ipython3",
   "version": "3.11.9"
  }
 },
 "nbformat": 4,
 "nbformat_minor": 5
}
